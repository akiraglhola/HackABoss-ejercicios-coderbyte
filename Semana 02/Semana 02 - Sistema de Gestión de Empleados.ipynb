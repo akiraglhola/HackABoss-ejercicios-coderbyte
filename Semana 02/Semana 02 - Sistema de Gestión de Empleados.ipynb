{
 "cells": [
  {
   "cell_type": "markdown",
   "id": "d5237913-8f28-4647-af9c-9e13861a21d4",
   "metadata": {},
   "source": [
    "## Sistema de Gestión de Empleados\n",
    "\n",
    "Para este ejercicio vamos a simular una \"base de datos\" con información de empleados de una empresa ficticia.\n",
    "\n",
    "Vamos a utilizar el archivo _**empleados.pkl**_ que es un diccionario con información de empleados.\n",
    "\n",
    "Un empleado cuenta con la siguiente información:\n",
    "\n",
    "|Atributo        |Descripción                                               |Tipo de dato|Rango                   |\n",
    "|----------------|----------------------------------------------------------|------------|------------------------|\n",
    "|**id**          |Un identificador único para cada empleado.                |**int**     |[1, 9999]               |\n",
    "|**nombre**      |Nombre del empleado.                                      |**string**  |                        |\n",
    "|**apellido**    |Apellido del empleado.                                    |**string**  |                        |\n",
    "|**departamento**|Departamento al que pertenece el empleado.                |**string**  |[1, 10]                 |\n",
    "|**sueldo**      |Sueldo mensual del empleado.                              |**float**   |[10000, 20000]          |\n",
    "|**fecha**       |Fecha en que el empleado comenzó a trabajar en la empresa.|**datetime**|[2000-01-01, 2000-31-12]|\n",
    "|**email**       |Correo electrónico del empleado.                          |**string**  |                        |\n",
    "\n",
    "\n",
    "Ejemplo de un empleado:\n",
    "\n",
    "```python\n",
    "{\"id\"          : 4371,\n",
    " \"nombre\"      : \"nombre_4371\",\n",
    " \"apellido\"    : \"apellido_4371\",\n",
    " \"departamento\": 8,\n",
    " \"sueldo\"      : 15521.0,\n",
    " \"fecha\"       : \"2012-06-01\",\n",
    " \"email\"       : \"nombre_4371.apellido_4371@python.com\"}\n",
    "```\n",
    "\n",
    "Para interactuar con este diccionario vamos a definir diferentes funciones:\n",
    "\n",
    "- **get_empleado(id_, empleados)**: Esta función buscará en el diccionario _**empleados**_ un empleado cuyo \"id\" sea igual al parámetro de entrada **id_** y mostrará por pantalla toda la información disponible de ese empleado.\n",
    "\n",
    "- **get_top_empleados(sueldo, empleados)**: Esta función retornará una lista con los \"id\"s de los empleados cuyo \"sueldo\" sea mayor o igual al parámetro _**sueldo**_.\n",
    "\n",
    "- **put_empleado(empleados)**: Esta función añadirá al diccionario _**empleados**_ un empleado nuevo. Los datos del empleado nuevo serán generados aleatoriamente usando la librería **random** y se generará un diccionario con estos datos, además el nuevo empleado no puede tener un \"id\" ya existente. Esta función debe retornar un diccionario de empleados nuevo, usalo para sobrescribir el diccionario de empleados anterior.\n",
    "\n",
    "**Las 3 funciones toman como parámetro de entrada el diccionario de _empleados_.**\n",
    "        \n",
    "**Implementación**: Comprobar la funcionalidad de las tres funciones anteriores."
   ]
  },
  {
   "cell_type": "code",
   "execution_count": null,
   "id": "c92a38a1-b2c6-45e4-9d58-50474e9ef935",
   "metadata": {
    "tags": []
   },
   "outputs": [],
   "source": []
  },
  {
   "cell_type": "code",
   "execution_count": null,
   "id": "30408762-e72b-4c41-b764-2c198c2c0b2e",
   "metadata": {
    "tags": []
   },
   "outputs": [],
   "source": []
  },
  {
   "cell_type": "code",
   "execution_count": null,
   "id": "162c5c8d-3ca8-4c8d-8cf2-4dcf6c7875ab",
   "metadata": {
    "tags": []
   },
   "outputs": [],
   "source": []
  },
  {
   "cell_type": "code",
   "execution_count": null,
   "id": "af01b0c9-76f2-48a4-80ed-7f7e948820ff",
   "metadata": {
    "tags": []
   },
   "outputs": [],
   "source": []
  },
  {
   "cell_type": "code",
   "execution_count": null,
   "id": "4318db5d-9e02-442d-9509-842fe03468a9",
   "metadata": {
    "tags": []
   },
   "outputs": [],
   "source": []
  },
  {
   "cell_type": "code",
   "execution_count": null,
   "id": "7769f5f2-37ce-4aa7-84d7-532e87327816",
   "metadata": {
    "tags": []
   },
   "outputs": [],
   "source": []
  },
  {
   "cell_type": "code",
   "execution_count": null,
   "id": "0d56ede7-71b6-4e4b-88f6-3fb2a2586b79",
   "metadata": {
    "tags": []
   },
   "outputs": [],
   "source": []
  },
  {
   "cell_type": "code",
   "execution_count": null,
   "id": "0fc57c1f-0a14-4da8-9ae3-55ea2bc732fb",
   "metadata": {
    "tags": []
   },
   "outputs": [],
   "source": []
  },
  {
   "cell_type": "code",
   "execution_count": null,
   "id": "9c17de25-0332-4a5d-8ed4-e1d72f92f7d8",
   "metadata": {
    "tags": []
   },
   "outputs": [],
   "source": [
    "##############################################################################################################################"
   ]
  }
 ],
 "metadata": {
  "kernelspec": {
   "display_name": "Python 3 (ipykernel)",
   "language": "python",
   "name": "python3"
  },
  "language_info": {
   "codemirror_mode": {
    "name": "ipython",
    "version": 3
   },
   "file_extension": ".py",
   "mimetype": "text/x-python",
   "name": "python",
   "nbconvert_exporter": "python",
   "pygments_lexer": "ipython3",
   "version": "3.11.7"
  }
 },
 "nbformat": 4,
 "nbformat_minor": 5
}
