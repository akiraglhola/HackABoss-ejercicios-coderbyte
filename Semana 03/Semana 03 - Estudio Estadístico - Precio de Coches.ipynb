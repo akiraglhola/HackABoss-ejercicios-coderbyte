{
 "cells": [
  {
   "cell_type": "markdown",
   "id": "7ac6c788-aed6-496c-ab0c-2e61a63c39fc",
   "metadata": {},
   "source": [
    "### Estudio Estadístico - Precios de Coches\n",
    "\n",
    "Usando el archivo _**data_sample.pkl**_ vamos a hacer un estudio estadístico, el objetivo es ver como se relaciona la variable de **precio** con la variable de **año**.\n",
    "\n",
    "Estructura del archivo _**data_sample.pkl**_\n",
    "```python\n",
    "{0: {'año': 2023.0, 'precio': 29000.0},\n",
    " 1: {'año': 2023.0, 'precio': 30500.0},\n",
    " 2: {'año': 2023.0, 'precio': 43800.0},\n",
    " 3: {'año': 2023.0, 'precio': 38990.0},\n",
    " ... }\n",
    "```\n",
    "\n",
    "1. **Preparación de los Datos**: Define una función que tome como parámetro de entrada el diccionario de _**data_sample.pkl**_ y que retorne una matriz de **numpy** de dos columna, la primera con los años y la segunda con los precios. Llama la función **preparacion_datos()**.\n",
    "\n",
    "2. **Identificar Outliers**: Define una función que tome como parámetro de entrada un **np.array** y una variable $z$. Esta función debe usar la **Puntuación Z (Z-Score)** para calcular la cantidad de elementos dentro de $-z$ y $z$ desviaciones estandar. La función debe imprimir por pantalla la cantidad de elementos del **np.array** (en porcentaje) dentro de ese intervalo. Usa la función con ambas columnas de la matriz del punto 1. LLama la función **z_score()**\n",
    "\n",
    "3. **Estandarización de Datos**: Define una función que tome como parámetro de entrada un **np.array** de una dimensión. Esta función debe aplicar la siguiente formula a todos los elementos del **np.array**:\n",
    "$$z = \\frac{x_{i} - \\overline{x}}{\\sigma_{x}} = \\frac{x_{i} - mean(x)}{std(x)}$$\n",
    "Utiliza esta función con cada columna de la matriz del punto 1. Llama a esta función **standard_scaler()**.\n",
    "\n",
    "4. **Correlación de Variables**: Define una función que tome como parámetro de entrada la matriz estandarizada del punto 3. Esta función debe usar la función de correlación de Pearson (_**stats.pearsonr()**_) con ambas columnas e imprimir por pantalla el resultado. Llama a esta función **pearson_corr()**\n",
    "\n",
    "5. **Transformación Logarítmica**: Define una función que tome como parámetro de entrada un **np.array** de una dimensión. Esta funcón debe aplicar la función de logarítmo **np.log()** a cada elemento del **np.array**. Utiliza esta función con la columna de precio únicamente. Llama esta función **log_trans()**.\n",
    "\n",
    "6. Usa de nuevo la función **pearson_corr()** pero ahora con la nueva matriz. ¿Cambió el resultado?"
   ]
  },
  {
   "cell_type": "code",
   "execution_count": null,
   "id": "5a98101b-1188-4567-b93e-6ab6a0f2bb5e",
   "metadata": {
    "tags": []
   },
   "outputs": [],
   "source": [
    "import numpy as np\n",
    "from scipy import stats\n",
    "import pickle"
   ]
  },
  {
   "cell_type": "code",
   "execution_count": null,
   "id": "944b87c6-edfd-432d-b771-f1e461c9b166",
   "metadata": {
    "tags": []
   },
   "outputs": [],
   "source": []
  },
  {
   "cell_type": "code",
   "execution_count": null,
   "id": "0ac352d7-9409-4cf4-8108-f07c53311351",
   "metadata": {},
   "outputs": [],
   "source": []
  },
  {
   "cell_type": "code",
   "execution_count": null,
   "id": "095f081d-75a6-467e-b6e4-7743ad78a535",
   "metadata": {},
   "outputs": [],
   "source": [
    "##############################################################################################################################"
   ]
  }
 ],
 "metadata": {
  "kernelspec": {
   "display_name": "Python 3 (ipykernel)",
   "language": "python",
   "name": "python3"
  },
  "language_info": {
   "codemirror_mode": {
    "name": "ipython",
    "version": 3
   },
   "file_extension": ".py",
   "mimetype": "text/x-python",
   "name": "python",
   "nbconvert_exporter": "python",
   "pygments_lexer": "ipython3",
   "version": "3.11.7"
  }
 },
 "nbformat": 4,
 "nbformat_minor": 5
}
