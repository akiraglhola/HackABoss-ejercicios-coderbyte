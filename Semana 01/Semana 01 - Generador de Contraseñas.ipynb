{
 "cells": [
  {
   "cell_type": "markdown",
   "id": "929fc331-3e14-4277-8c32-760948d06800",
   "metadata": {},
   "source": [
    "## Generador de contraseñas aleatorias\n",
    "\n",
    "- **Criterios**:\n",
    "\n",
    "    - La contraseña debe tener mínimo 12 caracteres y máximo 24 caracteres.\n",
    "    \n",
    "    - La contraseña debe incluir al menos una letra minúscula, una letra mayúscula, un número y un carácter especial.\n",
    "        - Caracteres especiales: !@#$%^&\\*()-\\_+={}[]:;'<>,.?/\\\\|~`\n",
    "        \n",
    "    - La contraseña debe ser generada usando la librería **random**.\n",
    "    - La contraseña debe ser una variable de tipo **string**.\n",
    "        \n",
    "        \n",
    "- **Implementación**:\n",
    "    - Comprobar que la contraseña generada cumple con los criterios del punto anterior. \n",
    "\n",
    "_**No uses este algoritmo para generar contraseñas de uso personal.**_"
   ]
  },
  {
   "cell_type": "code",
   "execution_count": null,
   "id": "9afc6065-38fa-475d-b165-afefe51b184e",
   "metadata": {},
   "outputs": [],
   "source": []
  },
  {
   "cell_type": "code",
   "execution_count": null,
   "id": "d703b66c-e285-4668-9de1-a2324a7cbe08",
   "metadata": {},
   "outputs": [],
   "source": []
  },
  {
   "cell_type": "code",
   "execution_count": null,
   "id": "bc7a4fbd-a36f-4af0-bad1-8efcb17f7a3b",
   "metadata": {},
   "outputs": [],
   "source": []
  },
  {
   "cell_type": "code",
   "execution_count": null,
   "id": "045848f7-a6bc-4908-aceb-fee7821a8a34",
   "metadata": {},
   "outputs": [],
   "source": []
  },
  {
   "cell_type": "code",
   "execution_count": null,
   "id": "d8db7709-87ac-4b81-b440-8f765a49d570",
   "metadata": {},
   "outputs": [],
   "source": []
  },
  {
   "cell_type": "code",
   "execution_count": null,
   "id": "a878ccb0-9997-4db4-aebf-9411f86e7e0a",
   "metadata": {},
   "outputs": [],
   "source": []
  },
  {
   "cell_type": "code",
   "execution_count": null,
   "id": "144d01e1-a215-4467-96d0-c8ba97dc5971",
   "metadata": {},
   "outputs": [],
   "source": []
  },
  {
   "cell_type": "code",
   "execution_count": null,
   "id": "7cd581de-1a23-4536-bb06-3affd3665833",
   "metadata": {},
   "outputs": [],
   "source": []
  },
  {
   "cell_type": "code",
   "execution_count": null,
   "id": "9f32e1b0-c33f-421f-8221-d8bf412a5b10",
   "metadata": {},
   "outputs": [],
   "source": []
  },
  {
   "cell_type": "code",
   "execution_count": null,
   "id": "697365e0-a180-40ac-80ba-1e13092c6174",
   "metadata": {},
   "outputs": [],
   "source": []
  },
  {
   "cell_type": "code",
   "execution_count": null,
   "id": "c285880c-51ca-462f-bd64-7c4b8eb1ecdf",
   "metadata": {},
   "outputs": [],
   "source": [
    "##############################################################################################################################"
   ]
  }
 ],
 "metadata": {
  "kernelspec": {
   "display_name": "Python 3 (ipykernel)",
   "language": "python",
   "name": "python3"
  },
  "language_info": {
   "codemirror_mode": {
    "name": "ipython",
    "version": 3
   },
   "file_extension": ".py",
   "mimetype": "text/x-python",
   "name": "python",
   "nbconvert_exporter": "python",
   "pygments_lexer": "ipython3",
   "version": "3.11.7"
  }
 },
 "nbformat": 4,
 "nbformat_minor": 5
}
