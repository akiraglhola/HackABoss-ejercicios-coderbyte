{
 "cells": [
  {
   "cell_type": "code",
   "execution_count": 21,
   "id": "928c6afe-6da3-4e72-9d15-4e1b4d3c6338",
   "metadata": {},
   "outputs": [
    {
     "name": "stdout",
     "output_type": "stream",
     "text": [
      "Tamaño de nuestra contraseña 19\n",
      "La contraseña va a tener 5 letras mayúsculas\n",
      "La contraseña va a tener 10 letras minúsculas\n",
      "La contraseña va a tener 2 caracteres especiales\n",
      "La contraseña va a tener 2 números\n"
     ]
    }
   ],
   "source": [
    "#datos principales \n",
    "\n",
    "len_min = 12\n",
    "len_max = 24\n",
    "\n",
    "c_especiales = \"!@#$%^&\\\\*()-\\\\_+={}[]:;'<>,.?/\\\\|~`\"\n",
    "\n",
    "#Cargnado libreria random \n",
    "import random \n",
    "\n",
    "#generemos un tamaño aleatorio que cumple nuestro requisito de tamaño \n",
    "n_contraseña = random.randint(12,24)\n",
    "print(f'Tamaño de nuestra contraseña {n_contraseña}')\n",
    "\n",
    "#cantidad de letras mayusculas \n",
    "x = n_contraseña - 3 \n",
    "n_mayus = random.randint(1,x)\n",
    "print(f'La contraseña va a tener {n_mayus} letras mayúsculas')\n",
    "\n",
    "#cantidad de letras minusculas \n",
    "x = x +1 - n_mayus\n",
    "n_minus = random.randint(1,x)\n",
    "print(f'La contraseña va a tener {n_minus} letras minúsculas')\n",
    "\n",
    "#cantidad de caracteres especiales\n",
    "x = x + 1 - n_minus\n",
    "n_espe = random.randint(1,x)\n",
    "print(f'La contraseña va a tener {n_espe} caracteres especiales')\n",
    "\n",
    "#contidad de números\n",
    "n_num = x + 1 - n_espe \n",
    "print(f'La contraseña va a tener {n_num} números')\n"
   ]
  },
  {
   "cell_type": "code",
   "execution_count": 29,
   "id": "8332edc3-063d-481a-af87-e4673b2d7fcd",
   "metadata": {},
   "outputs": [
    {
     "name": "stdout",
     "output_type": "stream",
     "text": [
      "Numero de elementos: 2 números, 5 mayusculas, 10 minusculas, 2 caracteres especiales\n",
      "Los elementos de la contraseña son [3, 7, 'P', 'F', 'Q', 'C', 'V', 'f', 'x', 'd', 'e', 'l', 'v', 'y', 'r', 'z', 'w', '(', ':']\n",
      "La lista de los elementos de la contraseña es ['f', 7, 'Q', 'd', ':', 'y', 'P', 'v', '(', 'z', 'x', 'l', 'C', 3, 'r', 'e', 'V', 'F', 'w']\n",
      "La contraseña final es f7Qd:yPv(zxlC3reVFw\n"
     ]
    }
   ],
   "source": [
    "#contraseña = random.randint(n_num)\n",
    "import string \n",
    "#c_especiales = ['!','@','#','$','%','^','&','\\\\','*','(',')','-','\\\\','_','+','=','{','}','[',']',':',';','<','>','.','?','/','\\\\','|','~','`','\"']\n",
    "\n",
    "print(f'Numero de elementos: {n_num} números, {n_mayus} mayusculas, {n_minus} minusculas, {n_espe} caracteres especiales')\n",
    "\n",
    "#Creamos una cadena con las cantidades aleatorias de cada tipo anteriormente calculados \n",
    "contraseña = random.choices(population = range(0,9), k = n_num) \n",
    "contraseña += random.choices(population = string.ascii_uppercase, k = n_mayus) \n",
    "contraseña += random.choices(population = string.ascii_lowercase, k = n_minus)\n",
    "contraseña += random.choices(population = c_especiales, k = n_espe)\n",
    "\n",
    "print(f'Los elementos de la contraseña son {str(contraseña)}')\n",
    "random.shuffle(contraseña)\n",
    "\n",
    "\n",
    "print(f'La lista de los elementos de la contraseña es {str(contraseña)}')\n",
    "\n",
    "#convertimos la contraseña que está dentro de una lista en un string\n",
    "string = \"\"\n",
    "for i in range(len(contraseña)):\n",
    "    string += str(contraseña[i])\n",
    "\n",
    "print(f'La contraseña final es {string}')\n"
   ]
  },
  {
   "cell_type": "markdown",
   "id": "65f2971f-07a1-4d0b-a579-c149a00b38c9",
   "metadata": {},
   "source": [
    "Comprobacion de contraseña generada"
   ]
  },
  {
   "cell_type": "code",
   "execution_count": 37,
   "id": "160a2b01-97ae-4d76-90c8-225542554d25",
   "metadata": {},
   "outputs": [
    {
     "name": "stdout",
     "output_type": "stream",
     "text": [
      "Contraseña f7Qd:yPv(zxlC3reVFw con tamaño correcto, tamaño de la contraseña 19\n",
      "Caracter f es una letra minuscula\n",
      "Caracter 7 es un número\n",
      "Caracter Q es una letra mayuscula\n",
      "Caracter d es una letra minuscula\n",
      "Caracter : es un caracter especial\n",
      "Contraseña f7Qd:yPv(zxlC3reVFw correcta\n"
     ]
    }
   ],
   "source": [
    "#Contraseña de prueba \n",
    "#contraseña = \"1234abcABC@@777777777777\"\n",
    "contraseña = string\n",
    "\n",
    "\n",
    "#variables boleanas que contienen la verificacion de cada requisito \n",
    "tamaño = False\n",
    "mayus = False \n",
    "minus = False \n",
    "num = False\n",
    "especial = False\n",
    "\n",
    "# Comprobando el tamaño de la contraseña y mostrando que falla y que está bien\n",
    "if len(contraseña) < len_min:\n",
    "    print(f'Contraseña {contraseña} demasiado corta, tamaño mínimo {len_min}, tamaño de la contraseña {len(contraseña)}')\n",
    "elif len(contraseña) <= len_max:\n",
    "    print(f'Contraseña {contraseña} con tamaño correcto, tamaño de la contraseña {len(contraseña)}')\n",
    "    tamaño = True \n",
    "else:\n",
    "    print(f'Contraseña {contraseña} demasiado larga, tamaño máximo {len_max}, tamaño de la contraseña {len(contraseña)}')\n",
    "\n",
    "i = 0\n",
    "while (i < len(contraseña)) and (mayus != True or minus != True or num != True or especial != True): \n",
    "#for i in range(len(contraseña)):\n",
    "    if 'a' <= contraseña[i] <= 'z': # contraseña[i] == contraseña[i].lower()\n",
    "        minus = True\n",
    "        print(f'Caracter {contraseña[i]} es una letra minuscula')\n",
    "    elif 'A' <= contraseña[i] <= 'Z': # contraseña[i] == contraseña[i].upper()\n",
    "        mayus = True\n",
    "        print(f'Caracter {contraseña[i]} es una letra mayuscula')\n",
    "    elif '0' <= contraseña[i] <= '9':\n",
    "        num = True \n",
    "        print(f'Caracter {contraseña[i]} es un número')\n",
    "    else: # si no es una minuscula ni una mayuscula ni un numero es un caracter especial? no hay otra tipo mas?? \n",
    "        especial = True\n",
    "        print(f'Caracter {contraseña[i]} es un caracter especial')\n",
    "    i+=1\n",
    "        \n",
    "\n",
    "#Verificando que se han cumplido las cuatro condiciones \n",
    "if (tamaño == True) and (mayus == True) and (minus == True) and (num == True) and (especial == True):\n",
    "    print(f'Contraseña {contraseña} correcta')\n",
    "else:\n",
    "    print(f'Contraseña {contraseña} incorrecta')\n"
   ]
  },
  {
   "cell_type": "code",
   "execution_count": null,
   "id": "a8d10a86-2075-4f8c-b8cf-4dbb9239b2da",
   "metadata": {},
   "outputs": [],
   "source": []
  },
  {
   "cell_type": "code",
   "execution_count": null,
   "id": "de4b2964-44bb-4c56-ad23-708df949825c",
   "metadata": {},
   "outputs": [],
   "source": []
  }
 ],
 "metadata": {
  "kernelspec": {
   "display_name": "Python [conda env:base] *",
   "language": "python",
   "name": "conda-base-py"
  },
  "language_info": {
   "codemirror_mode": {
    "name": "ipython",
    "version": 3
   },
   "file_extension": ".py",
   "mimetype": "text/x-python",
   "name": "python",
   "nbconvert_exporter": "python",
   "pygments_lexer": "ipython3",
   "version": "3.12.7"
  }
 },
 "nbformat": 4,
 "nbformat_minor": 5
}
